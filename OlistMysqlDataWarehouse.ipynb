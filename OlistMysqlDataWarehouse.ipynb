{
  "nbformat": 4,
  "nbformat_minor": 0,
  "metadata": {
    "colab": {
      "name": "OlistMysqlDataWarehouse.ipynb",
      "provenance": [],
      "collapsed_sections": [],
      "authorship_tag": "ABX9TyO6cBChdPgSbq7ucYitmUPf",
      "include_colab_link": true
    },
    "kernelspec": {
      "name": "python3",
      "display_name": "Python 3"
    }
  },
  "cells": [
    {
      "cell_type": "markdown",
      "metadata": {
        "id": "view-in-github",
        "colab_type": "text"
      },
      "source": [
        "<a href=\"https://colab.research.google.com/github/LeoFernanndes/data_engineering/blob/main/OlistMysqlDataWarehouse.ipynb\" target=\"_parent\"><img src=\"https://colab.research.google.com/assets/colab-badge.svg\" alt=\"Open In Colab\"/></a>"
      ]
    },
    {
      "cell_type": "code",
      "metadata": {
        "colab": {
          "base_uri": "https://localhost:8080/"
        },
        "id": "EKu7TjyWKHiD",
        "outputId": "58d3e813-5dd6-4732-e389-eb6666a9f5ee"
      },
      "source": [
        "!pip install mysql-connector-python\r\n",
        "!pip install pymysql\r\n",
        "!pip install tweepy\r\n",
        "!pip install SQLAlchemy"
      ],
      "execution_count": 1,
      "outputs": [
        {
          "output_type": "stream",
          "text": [
            "Collecting mysql-connector-python\n",
            "\u001b[?25l  Downloading https://files.pythonhosted.org/packages/6c/1d/e666f7d43496a2315d3963a2fb7f8df84e7293b4ddbf05e46d6bdb4a8892/mysql_connector_python-8.0.22-cp36-cp36m-manylinux1_x86_64.whl (18.0MB)\n",
            "\u001b[K     |████████████████████████████████| 18.0MB 203kB/s \n",
            "\u001b[?25hRequirement already satisfied: protobuf>=3.0.0 in /usr/local/lib/python3.6/dist-packages (from mysql-connector-python) (3.12.4)\n",
            "Requirement already satisfied: setuptools in /usr/local/lib/python3.6/dist-packages (from protobuf>=3.0.0->mysql-connector-python) (50.3.2)\n",
            "Requirement already satisfied: six>=1.9 in /usr/local/lib/python3.6/dist-packages (from protobuf>=3.0.0->mysql-connector-python) (1.15.0)\n",
            "Installing collected packages: mysql-connector-python\n",
            "Successfully installed mysql-connector-python-8.0.22\n",
            "Collecting pymysql\n",
            "\u001b[?25l  Downloading https://files.pythonhosted.org/packages/1a/ea/dd9c81e2d85efd03cfbf808736dd055bd9ea1a78aea9968888b1055c3263/PyMySQL-0.10.1-py2.py3-none-any.whl (47kB)\n",
            "\u001b[K     |████████████████████████████████| 51kB 2.7MB/s \n",
            "\u001b[?25hInstalling collected packages: pymysql\n",
            "Successfully installed pymysql-0.10.1\n",
            "Requirement already satisfied: tweepy in /usr/local/lib/python3.6/dist-packages (3.6.0)\n",
            "Requirement already satisfied: six>=1.10.0 in /usr/local/lib/python3.6/dist-packages (from tweepy) (1.15.0)\n",
            "Requirement already satisfied: PySocks>=1.5.7 in /usr/local/lib/python3.6/dist-packages (from tweepy) (1.7.1)\n",
            "Requirement already satisfied: requests>=2.11.1 in /usr/local/lib/python3.6/dist-packages (from tweepy) (2.23.0)\n",
            "Requirement already satisfied: requests-oauthlib>=0.7.0 in /usr/local/lib/python3.6/dist-packages (from tweepy) (1.3.0)\n",
            "Requirement already satisfied: chardet<4,>=3.0.2 in /usr/local/lib/python3.6/dist-packages (from requests>=2.11.1->tweepy) (3.0.4)\n",
            "Requirement already satisfied: certifi>=2017.4.17 in /usr/local/lib/python3.6/dist-packages (from requests>=2.11.1->tweepy) (2020.12.5)\n",
            "Requirement already satisfied: idna<3,>=2.5 in /usr/local/lib/python3.6/dist-packages (from requests>=2.11.1->tweepy) (2.10)\n",
            "Requirement already satisfied: urllib3!=1.25.0,!=1.25.1,<1.26,>=1.21.1 in /usr/local/lib/python3.6/dist-packages (from requests>=2.11.1->tweepy) (1.24.3)\n",
            "Requirement already satisfied: oauthlib>=3.0.0 in /usr/local/lib/python3.6/dist-packages (from requests-oauthlib>=0.7.0->tweepy) (3.1.0)\n",
            "Requirement already satisfied: SQLAlchemy in /usr/local/lib/python3.6/dist-packages (1.3.20)\n"
          ],
          "name": "stdout"
        }
      ]
    },
    {
      "cell_type": "code",
      "metadata": {
        "id": "c8XQX7fqMR14"
      },
      "source": [
        "import pandas as pd\r\n",
        "import json\r\n",
        "import mysql.connector\r\n",
        "import os\r\n",
        "import tweepy as tw\r\n",
        "import pandas as pd\r\n",
        "from datetime import datetime, timedelta\r\n",
        "import numpy as np\r\n",
        "import json\r\n",
        "import matplotlib.pyplot as plt\r\n",
        "import seaborn as sns\r\n",
        "from sqlalchemy import create_engine\r\n",
        "import time"
      ],
      "execution_count": 2,
      "outputs": []
    },
    {
      "cell_type": "code",
      "metadata": {
        "id": "Ea_NF1w9MXCU"
      },
      "source": [
        "def mysql_rds_database_authentication(database_credentials, database=None):\r\n",
        "  \r\n",
        "  if database==None:\r\n",
        "\r\n",
        "    mydb = mysql.connector.connect(\r\n",
        "      host = database_credentials['host'],\r\n",
        "      user = database_credentials['user'],\r\n",
        "      port = database_credentials['port'],\r\n",
        "      password = database_credentials['password']\r\n",
        "    )\r\n",
        "    \r\n",
        "  else:\r\n",
        "    mydb = mysql.connector.connect(\r\n",
        "      host = database_credentials['host'],\r\n",
        "      user = database_credentials['user'],\r\n",
        "      port = database_credentials['port'],\r\n",
        "      password = database_credentials['password'],\r\n",
        "      database = database\r\n",
        "    )\r\n",
        "\r\n",
        "  return mydb"
      ],
      "execution_count": 3,
      "outputs": []
    },
    {
      "cell_type": "code",
      "metadata": {
        "colab": {
          "base_uri": "https://localhost:8080/"
        },
        "id": "g0TCE1H7P4Gw",
        "outputId": "5e70a52c-15f8-4b7e-a772-b0f792c8ae54"
      },
      "source": [
        "# olist_customers_dataset.csv\r\n",
        "customers_dataset_url = 'https://raw.githubusercontent.com/olist/work-at-olist-data/master/datasets/olist_customers_dataset.csv'\r\n",
        "customers_dataset = pd.read_csv(customers_dataset_url)\r\n",
        "\r\n",
        "# olist_geolocation_dataset.csv\r\n",
        "geolocation_dataset_url = 'https://raw.githubusercontent.com/olist/work-at-olist-data/master/datasets/olist_geolocation_dataset.csv'\r\n",
        "geolocation_dataset = pd.read_csv(geolocation_dataset_url)\r\n",
        "\r\n",
        "# olist_order_items_dataset.csv\r\n",
        "order_items_dataset_url = 'https://raw.githubusercontent.com/olist/work-at-olist-data/master/datasets/olist_order_items_dataset.csv'\r\n",
        "order_items_dataset = pd.read_csv(order_items_dataset_url)\r\n",
        "\r\n",
        "# olist_order_payments_dataset.csv\r\n",
        "order_payments_dataset_url = 'https://raw.githubusercontent.com/olist/work-at-olist-data/master/datasets/olist_order_payments_dataset.csv'\r\n",
        "order_payments_dataset = pd.read_csv(order_payments_dataset_url)\r\n",
        "\r\n",
        "# olist_order_reviews_dataset.csv\r\n",
        "order_reviews_dataset_url = 'https://raw.githubusercontent.com/olist/work-at-olist-data/master/datasets/olist_order_reviews_dataset.csv'\r\n",
        "order_reviews_dataset = pd.read_csv(order_reviews_dataset_url)\r\n",
        "order_reviews_dataset = order_reviews_dataset.drop(columns=['Unnamed: 7', 'Unnamed: 8', 'Unnamed: 9', 'Unnamed: 10', 'Unnamed: 11', 'Unnamed: 12'])\r\n",
        "\r\n",
        "# olist_orders_dataset.csv\r\n",
        "orders_dataset_url = 'https://raw.githubusercontent.com/olist/work-at-olist-data/master/datasets/olist_orders_dataset.csv'\r\n",
        "orders_dataset = pd.read_csv(orders_dataset_url)\r\n",
        "\r\n",
        "# olist_products_dataset.csv\r\n",
        "products_dataset_url = 'https://raw.githubusercontent.com/olist/work-at-olist-data/master/datasets/olist_products_dataset.csv'\r\n",
        "products_dataset = pd.read_csv(products_dataset_url)\r\n",
        "\r\n",
        "# olist_sellers_dataset.csv\r\n",
        "sellers_dataset_url = 'https://raw.githubusercontent.com/olist/work-at-olist-data/master/datasets/olist_sellers_dataset.csv'\r\n",
        "sellers_dataset = pd.read_csv(sellers_dataset_url)\r\n",
        "\r\n",
        "# product_category_name_translation.csv\r\n",
        "product_category_name_translation_url = 'https://raw.githubusercontent.com/olist/work-at-olist-data/master/datasets/product_category_name_translation.csv'\r\n",
        "product_category_name_translation = pd.read_csv(product_category_name_translation_url)"
      ],
      "execution_count": 4,
      "outputs": [
        {
          "output_type": "stream",
          "text": [
            "/usr/local/lib/python3.6/dist-packages/IPython/core/interactiveshell.py:2718: DtypeWarning: Columns (10,11,12) have mixed types.Specify dtype option on import or set low_memory=False.\n",
            "  interactivity=interactivity, compiler=compiler, result=result)\n"
          ],
          "name": "stderr"
        }
      ]
    },
    {
      "cell_type": "code",
      "metadata": {
        "id": "tUmweBzNM5rS"
      },
      "source": [
        "olist_database_credentials = open(\"mysql_olist_credentials.json\")\r\n",
        "olist_database_credentials = json.load(olist_database_credentials)"
      ],
      "execution_count": 5,
      "outputs": []
    },
    {
      "cell_type": "code",
      "metadata": {
        "colab": {
          "base_uri": "https://localhost:8080/"
        },
        "id": "PHuB1oqEPU6u",
        "outputId": "c5a20bce-f403-4c1e-f055-42d1fb1e1ea9"
      },
      "source": [
        "connection = mysql_rds_database_authentication(olist_database_credentials)\r\n",
        "\r\n",
        "cursor = connection.cursor()\r\n",
        "cursor.execute(\"\"\"\r\n",
        "  CREATE DATABASE IF NOT EXISTS olist;\r\n",
        "  USE olist;\r\n",
        "\"\"\")\r\n",
        "connection.close()\r\n",
        "\r\n",
        "connection = mysql_rds_database_authentication(olist_database_credentials, 'olist')\r\n",
        "cursor = connection.cursor()\r\n",
        "cursor.execute(\"\"\"\r\n",
        "  show tables;\r\n",
        "\"\"\")\r\n",
        "tables = cursor.fetchall()\r\n",
        "connection.close()\r\n",
        "\r\n",
        "for table in tables:\r\n",
        "  print(table[0])"
      ],
      "execution_count": 6,
      "outputs": [
        {
          "output_type": "stream",
          "text": [
            "customers\n",
            "geolocation\n",
            "geolocation_dataset\n",
            "order_items\n",
            "order_payments\n",
            "order_reviews\n",
            "orders\n",
            "product_category_name_translation\n",
            "products\n",
            "sellers\n"
          ],
          "name": "stdout"
        }
      ]
    },
    {
      "cell_type": "code",
      "metadata": {
        "id": "D6Scr7c6YRJW"
      },
      "source": [
        "# criação das tabelas do banco\r\n",
        "\r\n",
        "connection = mysql_rds_database_authentication(olist_database_credentials, 'olist')\r\n",
        "cursor = connection.cursor()\r\n",
        "\r\n",
        "cursor.execute(\"\"\"\r\n",
        "  CREATE TABLE IF NOT EXISTS customers (\r\n",
        "    customer_id varchar(100) primary key,\r\n",
        "    customer_unique_id varchar(100),\r\n",
        "    customer_zip_code_prefix varchar(50),\r\n",
        "    customer_city varchar(100),\r\n",
        "    customer_state varchar(10)\r\n",
        "  );\r\n",
        "\"\"\")\r\n",
        "\r\n",
        "cursor.execute(\"\"\"\r\n",
        "  CREATE TABLE IF NOT EXISTS geolocation (\r\n",
        "    id_num int not null auto_increment primary key,\r\n",
        "    geolocation_zip_code_prefix varchar(50),\r\n",
        "    geolocation_lat\tfloat,\r\n",
        "    geolocation_lng float,\r\n",
        "    geolocation_city varchar(100),\r\n",
        "    geolocation_state varchar(10)\r\n",
        "  );\r\n",
        "\"\"\")\r\n",
        "\r\n",
        "cursor.execute(\"\"\"\r\n",
        "  CREATE TABLE IF NOT EXISTS order_items (\r\n",
        "    id_num int auto_increment primary key,\r\n",
        "    order_id varchar(100),\r\n",
        "    order_item_id\tint,\r\n",
        "    product_id varchar(100),\r\n",
        "    seller_id varchar(100),\r\n",
        "    shipping_limit_date datetime,\r\n",
        "    price float,\r\n",
        "    freight_value float\r\n",
        "  );\r\n",
        "\"\"\")\r\n",
        "\r\n",
        "cursor.execute(\"\"\"\r\n",
        "  CREATE TABLE IF NOT EXISTS order_payments (\r\n",
        "    id_num int auto_increment primary key,\r\n",
        "    order_id varchar(100),\r\n",
        "    payment_sequential\tint,\r\n",
        "    payment_type varchar(100),\r\n",
        "    payment_installments varchar(100),\r\n",
        "    payment_value datetime\r\n",
        "  );\r\n",
        "\"\"\")\r\n",
        "\r\n",
        "cursor.execute(\"\"\"\r\n",
        "  CREATE TABLE IF NOT EXISTS order_reviews (\r\n",
        "    id_num int auto_increment primary key,\r\n",
        "    review_id varchar(100),\r\n",
        "    order_id\tvarchar(100),\r\n",
        "    review_score float,\r\n",
        "    review_comment_title varchar(100),\r\n",
        "    review_comment_message varchar(255),\r\n",
        "    review_creation_date datetime,\r\n",
        "    review_answer_timestamp datetime\r\n",
        "  );\r\n",
        "\"\"\")\r\n",
        "\r\n",
        "cursor.execute(\"\"\"\r\n",
        "  CREATE TABLE IF NOT EXISTS order_reviews (\r\n",
        "    review_id varchar(100) primary key,\r\n",
        "    order_id\tvarchar(100),\r\n",
        "    review_score float,\r\n",
        "    review_comment_title varchar(100),\r\n",
        "    review_comment_message varchar(255),\r\n",
        "    review_creation_date datetime,\r\n",
        "    review_answer_timestamp datetime\r\n",
        "  );\r\n",
        "\"\"\")\r\n",
        "\r\n",
        "cursor.execute(\"\"\"\r\n",
        "  CREATE TABLE IF NOT EXISTS orders (\r\n",
        "    order_id varchar(100) primary key,\r\n",
        "    customer_id\tvarchar(100),\r\n",
        "    order_status varchar(100),\r\n",
        "    order_purchase_timestamp datetime,\r\n",
        "    order_approved_at datetime,\r\n",
        "    order_delivered_carrier_date datetime,\r\n",
        "    order_delivered_customer_date datetime,\r\n",
        "    order_estimated_delivery_date datetime\r\n",
        "  );\r\n",
        "\"\"\")\r\n",
        "\r\n",
        "cursor.execute(\"\"\"\r\n",
        "  CREATE TABLE IF NOT EXISTS products (\r\n",
        "    product_id varchar(100) primary key,\r\n",
        "    product_category_name\tvarchar(100),\r\n",
        "    product_name_lenght int,\r\n",
        "    product_description_lenght int,\r\n",
        "    product_photos_qty float,\r\n",
        "    product_weight_g float,\r\n",
        "    product_length_cm float,\r\n",
        "    product_height_cm float,\r\n",
        "    product_width_cm float\r\n",
        "  );\r\n",
        "\"\"\")\r\n",
        "\r\n",
        "cursor.execute(\"\"\"\r\n",
        "  CREATE TABLE IF NOT EXISTS sellers (\r\n",
        "    seller_id varchar(100) primary key,\r\n",
        "    seller_zip_code_prefix varchar(50),\r\n",
        "    seller_city varchar(100),\r\n",
        "    seller_state varchar(10)\r\n",
        "  );\r\n",
        "\"\"\")\r\n",
        "\r\n",
        "cursor.execute(\"\"\"\r\n",
        "  CREATE TABLE IF NOT EXISTS product_category_name_translation (\r\n",
        "    product_category_name varchar(100) primary key,\r\n",
        "    product_category_name_english varchar(100)\r\n",
        "  );\r\n",
        "\"\"\")"
      ],
      "execution_count": 7,
      "outputs": []
    },
    {
      "cell_type": "code",
      "metadata": {
        "colab": {
          "base_uri": "https://localhost:8080/"
        },
        "id": "G4UuvKab0E1y",
        "outputId": "7aab811d-c123-4f33-bdf9-1e2d3f5ff82e"
      },
      "source": [
        "connection = mysql_rds_database_authentication(olist_database_credentials, 'olist')\r\n",
        "cursor = connection.cursor()\r\n",
        "cursor.execute(\"\"\"\r\n",
        "  show tables;\r\n",
        "\"\"\")\r\n",
        "tables = cursor.fetchall()\r\n",
        "connection.close()\r\n",
        "\r\n",
        "for table in tables:\r\n",
        "  print(table[0])"
      ],
      "execution_count": 8,
      "outputs": [
        {
          "output_type": "stream",
          "text": [
            "customers\n",
            "geolocation\n",
            "geolocation_dataset\n",
            "order_items\n",
            "order_payments\n",
            "order_reviews\n",
            "orders\n",
            "product_category_name_translation\n",
            "products\n",
            "sellers\n"
          ],
          "name": "stdout"
        }
      ]
    },
    {
      "cell_type": "code",
      "metadata": {
        "id": "T-DNJrLC2vnT"
      },
      "source": [
        "def drop_table(table):\r\n",
        "  connection = mysql_rds_database_authentication(olist_database_credentials, 'olist')\r\n",
        "  cursor = connection.cursor()\r\n",
        "  cursor.execute(f\"\"\"\r\n",
        "    drop table {table};\r\n",
        "  \"\"\")\r\n",
        "\r\n",
        "  connection.commit()\r\n",
        "  connection.close()\r\n",
        "\r\n",
        "  return f'table {table} successfully removed'\r\n",
        "\r\n",
        "\r\n",
        "def clear_table(table):\r\n",
        "  connection = mysql_rds_database_authentication(olist_database_credentials, 'olist')\r\n",
        "  cursor = connection.cursor()\r\n",
        "  cursor.execute(f\"\"\"\r\n",
        "    delete from {table};\r\n",
        "  \"\"\")\r\n",
        "  \r\n",
        "  connection.commit()\r\n",
        "  connection.close()\r\n",
        "\r\n",
        "  return f'table {table} successfully cleaned'\r\n",
        "  \r\n",
        "\r\n",
        "def query_database(query):\r\n",
        "  connection = mysql_rds_database_authentication(olist_database_credentials, 'olist')\r\n",
        "  dataframe = pd.read_sql(query, con=connection)\r\n",
        "  connection.close()\r\n",
        "\r\n",
        "  return dataframe\r\n",
        "\r\n",
        "\r\n",
        "def mysql_bulk_insert_dataframe(new_data, table, primary_key, mysql_credentials, verbose=False):\r\n",
        "  \r\n",
        "  try:\r\n",
        "    user = mysql_credentials['user']\r\n",
        "    password = mysql_credentials['password']\r\n",
        "    host = mysql_credentials['host']\r\n",
        "    port = mysql_credentials['port']\r\n",
        "    database = 'olist'\r\n",
        "\r\n",
        "    engine = create_engine(f\"mysql+mysqlconnector://{user}:{password}@{host}:{port}/{database}?charset=utf8mb4\")\r\n",
        "    database_persisted_primarykeys = pd.read_sql(f'select {primary_key} from {table}', con=engine)\r\n",
        "    new_filtered_data = new_data[new_data[primary_key].isin(database_persisted_primarykeys[primary_key]) == False]\r\n",
        "\r\n",
        "    batch_size = 100000\r\n",
        "    n_batches = int(np.ceil(new_filtered_data.shape[0] / batch_size))\r\n",
        "\r\n",
        "    for i in range(n_batches):\r\n",
        "      if i == n_batches - 1:\r\n",
        "        \r\n",
        "        first = batch_size * i\r\n",
        "        last = new_filtered_data.shape[0]\r\n",
        "        \r\n",
        "      \r\n",
        "      else:\r\n",
        "\r\n",
        "        first = batch_size * i\r\n",
        "        last = batch_size * (i + 1)\r\n",
        "      \r\n",
        "      new_filtered_data.iloc[first: last].to_sql(table, con=engine, if_exists='append', index=False)\r\n",
        "\r\n",
        "      if verbose == True:\r\n",
        "        print(f'batch {i+1} successfully inserted on table: {table}')\r\n",
        "\r\n",
        "      time.sleep(2)\r\n",
        "\r\n",
        "\r\n",
        "    if verbose == True:\r\n",
        "      return f'Successfully inserted {new_filtered_data.shape[0]} rows on {table}'\r\n",
        "\r\n",
        "  except Exception as e:\r\n",
        "    if verbose == True:\r\n",
        "      return f'An error has occurred: {e} => {table}'"
      ],
      "execution_count": 9,
      "outputs": []
    },
    {
      "cell_type": "code",
      "metadata": {
        "colab": {
          "base_uri": "https://localhost:8080/",
          "height": 52
        },
        "id": "GZH7GkVxzQUV",
        "outputId": "0f163a4e-fff3-4cd0-d318-732ee5e2cdb4"
      },
      "source": [
        "# customers\r\n",
        "clear_table('customers')\r\n",
        "mysql_bulk_insert_dataframe(customers_dataset, 'customers', 'customer_id', olist_database_credentials, verbose=True)"
      ],
      "execution_count": 10,
      "outputs": [
        {
          "output_type": "stream",
          "text": [
            "batch 1 successfully inserted on table: customers\n"
          ],
          "name": "stdout"
        },
        {
          "output_type": "execute_result",
          "data": {
            "application/vnd.google.colaboratory.intrinsic+json": {
              "type": "string"
            },
            "text/plain": [
              "'Successfully inserted 99441 rows on customers'"
            ]
          },
          "metadata": {
            "tags": []
          },
          "execution_count": 10
        }
      ]
    },
    {
      "cell_type": "code",
      "metadata": {
        "colab": {
          "base_uri": "https://localhost:8080/",
          "height": 225
        },
        "id": "XTz_pP4zzlQZ",
        "outputId": "b036a1db-d76a-4318-c78b-ef3c9a697a36"
      },
      "source": [
        "# geolocation\r\n",
        "clear_table('geolocation')\r\n",
        "mysql_bulk_insert_dataframe(geolocation_dataset, 'geolocation', 'geolocation_zip_code_prefix', olist_database_credentials, verbose=True)"
      ],
      "execution_count": 11,
      "outputs": [
        {
          "output_type": "stream",
          "text": [
            "batch 1 successfully inserted on table: geolocation\n",
            "batch 2 successfully inserted on table: geolocation\n",
            "batch 3 successfully inserted on table: geolocation\n",
            "batch 4 successfully inserted on table: geolocation\n",
            "batch 5 successfully inserted on table: geolocation\n",
            "batch 6 successfully inserted on table: geolocation\n",
            "batch 7 successfully inserted on table: geolocation\n",
            "batch 8 successfully inserted on table: geolocation\n",
            "batch 9 successfully inserted on table: geolocation\n",
            "batch 10 successfully inserted on table: geolocation\n",
            "batch 11 successfully inserted on table: geolocation\n"
          ],
          "name": "stdout"
        },
        {
          "output_type": "execute_result",
          "data": {
            "application/vnd.google.colaboratory.intrinsic+json": {
              "type": "string"
            },
            "text/plain": [
              "'Successfully inserted 1000163 rows on geolocation'"
            ]
          },
          "metadata": {
            "tags": []
          },
          "execution_count": 11
        }
      ]
    },
    {
      "cell_type": "code",
      "metadata": {
        "colab": {
          "base_uri": "https://localhost:8080/",
          "height": 69
        },
        "id": "izGsmAyhzmse",
        "outputId": "d4405bf7-297f-4d62-c585-b54a44025bba"
      },
      "source": [
        "# order_items\r\n",
        "clear_table('order_items')\r\n",
        "mysql_bulk_insert_dataframe(order_items_dataset, 'order_items', 'order_id', olist_database_credentials, verbose=True)"
      ],
      "execution_count": 12,
      "outputs": [
        {
          "output_type": "stream",
          "text": [
            "batch 1 successfully inserted on table: order_items\n",
            "batch 2 successfully inserted on table: order_items\n"
          ],
          "name": "stdout"
        },
        {
          "output_type": "execute_result",
          "data": {
            "application/vnd.google.colaboratory.intrinsic+json": {
              "type": "string"
            },
            "text/plain": [
              "'Successfully inserted 112650 rows on order_items'"
            ]
          },
          "metadata": {
            "tags": []
          },
          "execution_count": 12
        }
      ]
    },
    {
      "cell_type": "code",
      "metadata": {
        "colab": {
          "base_uri": "https://localhost:8080/",
          "height": 69
        },
        "id": "QUcUEdYHzoG2",
        "outputId": "243b5f62-f971-4321-eb31-2e845bd25429"
      },
      "source": [
        "# order_payments\r\n",
        "clear_table('order_payments')\r\n",
        "mysql_bulk_insert_dataframe(order_payments_dataset, 'order_payments', 'order_id', olist_database_credentials, verbose=True)"
      ],
      "execution_count": 13,
      "outputs": [
        {
          "output_type": "stream",
          "text": [
            "batch 1 successfully inserted on table: order_payments\n",
            "batch 2 successfully inserted on table: order_payments\n"
          ],
          "name": "stdout"
        },
        {
          "output_type": "execute_result",
          "data": {
            "application/vnd.google.colaboratory.intrinsic+json": {
              "type": "string"
            },
            "text/plain": [
              "'Successfully inserted 103886 rows on order_payments'"
            ]
          },
          "metadata": {
            "tags": []
          },
          "execution_count": 13
        }
      ]
    },
    {
      "cell_type": "code",
      "metadata": {
        "colab": {
          "base_uri": "https://localhost:8080/",
          "height": 52
        },
        "id": "_pvWZWDWzpDG",
        "outputId": "ed9e22dd-6714-46d2-cc91-735854733a59"
      },
      "source": [
        "# order_reviews\r\n",
        "clear_table('order_reviews')\r\n",
        "mysql_bulk_insert_dataframe(order_reviews_dataset, 'order_reviews', 'review_id', olist_database_credentials, verbose=True)"
      ],
      "execution_count": 14,
      "outputs": [
        {
          "output_type": "stream",
          "text": [
            "batch 1 successfully inserted on table: order_reviews\n"
          ],
          "name": "stdout"
        },
        {
          "output_type": "execute_result",
          "data": {
            "application/vnd.google.colaboratory.intrinsic+json": {
              "type": "string"
            },
            "text/plain": [
              "'Successfully inserted 100000 rows on order_reviews'"
            ]
          },
          "metadata": {
            "tags": []
          },
          "execution_count": 14
        }
      ]
    },
    {
      "cell_type": "code",
      "metadata": {
        "colab": {
          "base_uri": "https://localhost:8080/",
          "height": 52
        },
        "id": "DtKBbvwGzqez",
        "outputId": "7f5495f3-cd40-4007-dea8-2dd8f50e2582"
      },
      "source": [
        "# orders\r\n",
        "clear_table('orders')\r\n",
        "mysql_bulk_insert_dataframe(orders_dataset, 'orders', 'order_id', olist_database_credentials, verbose=True)"
      ],
      "execution_count": 15,
      "outputs": [
        {
          "output_type": "stream",
          "text": [
            "batch 1 successfully inserted on table: orders\n"
          ],
          "name": "stdout"
        },
        {
          "output_type": "execute_result",
          "data": {
            "application/vnd.google.colaboratory.intrinsic+json": {
              "type": "string"
            },
            "text/plain": [
              "'Successfully inserted 99441 rows on orders'"
            ]
          },
          "metadata": {
            "tags": []
          },
          "execution_count": 15
        }
      ]
    },
    {
      "cell_type": "code",
      "metadata": {
        "colab": {
          "base_uri": "https://localhost:8080/",
          "height": 52
        },
        "id": "YWJNb7H-zseB",
        "outputId": "2e9aee80-8707-4032-cf76-1a0ad4c3a5f4"
      },
      "source": [
        "# products\r\n",
        "clear_table('products')\r\n",
        "mysql_bulk_insert_dataframe(products_dataset, 'products', 'product_id', olist_database_credentials, verbose=True)"
      ],
      "execution_count": 16,
      "outputs": [
        {
          "output_type": "stream",
          "text": [
            "batch 1 successfully inserted on table: products\n"
          ],
          "name": "stdout"
        },
        {
          "output_type": "execute_result",
          "data": {
            "application/vnd.google.colaboratory.intrinsic+json": {
              "type": "string"
            },
            "text/plain": [
              "'Successfully inserted 32951 rows on products'"
            ]
          },
          "metadata": {
            "tags": []
          },
          "execution_count": 16
        }
      ]
    },
    {
      "cell_type": "code",
      "metadata": {
        "colab": {
          "base_uri": "https://localhost:8080/",
          "height": 52
        },
        "id": "cZJMLgcIztG7",
        "outputId": "d8427bd8-1c86-4d1f-a3a0-05d802d4ac43"
      },
      "source": [
        "# sellers\r\n",
        "clear_table('sellers')\r\n",
        "mysql_bulk_insert_dataframe(sellers_dataset, 'sellers', 'seller_id', olist_database_credentials, verbose=True)"
      ],
      "execution_count": 17,
      "outputs": [
        {
          "output_type": "stream",
          "text": [
            "batch 1 successfully inserted on table: sellers\n"
          ],
          "name": "stdout"
        },
        {
          "output_type": "execute_result",
          "data": {
            "application/vnd.google.colaboratory.intrinsic+json": {
              "type": "string"
            },
            "text/plain": [
              "'Successfully inserted 3095 rows on sellers'"
            ]
          },
          "metadata": {
            "tags": []
          },
          "execution_count": 17
        }
      ]
    },
    {
      "cell_type": "code",
      "metadata": {
        "colab": {
          "base_uri": "https://localhost:8080/",
          "height": 52
        },
        "id": "JELUP_kRzv0X",
        "outputId": "1227956d-8307-4192-f080-6c2ef2c7a0b0"
      },
      "source": [
        "# product_category_name_translation\r\n",
        "clear_table('product_category_name_translation')\r\n",
        "mysql_bulk_insert_dataframe(product_category_name_translation, 'product_category_name_translation', 'product_category_name', olist_database_credentials, verbose=True)"
      ],
      "execution_count": 18,
      "outputs": [
        {
          "output_type": "stream",
          "text": [
            "batch 1 successfully inserted on table: product_category_name_translation\n"
          ],
          "name": "stdout"
        },
        {
          "output_type": "execute_result",
          "data": {
            "application/vnd.google.colaboratory.intrinsic+json": {
              "type": "string"
            },
            "text/plain": [
              "'Successfully inserted 71 rows on product_category_name_translation'"
            ]
          },
          "metadata": {
            "tags": []
          },
          "execution_count": 18
        }
      ]
    },
    {
      "cell_type": "code",
      "metadata": {
        "colab": {
          "base_uri": "https://localhost:8080/",
          "height": 416
        },
        "id": "5Q7G6Ec_wsFL",
        "outputId": "f9bfbdc9-3ff5-4ba3-bfca-2ce644b63e45"
      },
      "source": [
        "query_database('select * from customers')"
      ],
      "execution_count": 19,
      "outputs": [
        {
          "output_type": "execute_result",
          "data": {
            "text/html": [
              "<div>\n",
              "<style scoped>\n",
              "    .dataframe tbody tr th:only-of-type {\n",
              "        vertical-align: middle;\n",
              "    }\n",
              "\n",
              "    .dataframe tbody tr th {\n",
              "        vertical-align: top;\n",
              "    }\n",
              "\n",
              "    .dataframe thead th {\n",
              "        text-align: right;\n",
              "    }\n",
              "</style>\n",
              "<table border=\"1\" class=\"dataframe\">\n",
              "  <thead>\n",
              "    <tr style=\"text-align: right;\">\n",
              "      <th></th>\n",
              "      <th>customer_id</th>\n",
              "      <th>customer_unique_id</th>\n",
              "      <th>customer_zip_code_prefix</th>\n",
              "      <th>customer_city</th>\n",
              "      <th>customer_state</th>\n",
              "    </tr>\n",
              "  </thead>\n",
              "  <tbody>\n",
              "    <tr>\n",
              "      <th>0</th>\n",
              "      <td>06b8999e2fba1a1fbc88172c00ba8bc7</td>\n",
              "      <td>861eff4711a542e4b93843c6dd7febb0</td>\n",
              "      <td>14409</td>\n",
              "      <td>franca</td>\n",
              "      <td>SP</td>\n",
              "    </tr>\n",
              "    <tr>\n",
              "      <th>1</th>\n",
              "      <td>18955e83d337fd6b2def6b18a428ac77</td>\n",
              "      <td>290c77bc529b7ac935b93aa66c333dc3</td>\n",
              "      <td>9790</td>\n",
              "      <td>sao bernardo do campo</td>\n",
              "      <td>SP</td>\n",
              "    </tr>\n",
              "    <tr>\n",
              "      <th>2</th>\n",
              "      <td>4e7b3e00288586ebd08712fdd0374a03</td>\n",
              "      <td>060e732b5b29e8181a18229c7b0b2b5e</td>\n",
              "      <td>1151</td>\n",
              "      <td>sao paulo</td>\n",
              "      <td>SP</td>\n",
              "    </tr>\n",
              "    <tr>\n",
              "      <th>3</th>\n",
              "      <td>b2b6027bc5c5109e529d4dc6358b12c3</td>\n",
              "      <td>259dac757896d24d7702b9acbbff3f3c</td>\n",
              "      <td>8775</td>\n",
              "      <td>mogi das cruzes</td>\n",
              "      <td>SP</td>\n",
              "    </tr>\n",
              "    <tr>\n",
              "      <th>4</th>\n",
              "      <td>4f2d8ab171c80ec8364f7c12e35b23ad</td>\n",
              "      <td>345ecd01c38d18a9036ed96c73b8d066</td>\n",
              "      <td>13056</td>\n",
              "      <td>campinas</td>\n",
              "      <td>SP</td>\n",
              "    </tr>\n",
              "    <tr>\n",
              "      <th>...</th>\n",
              "      <td>...</td>\n",
              "      <td>...</td>\n",
              "      <td>...</td>\n",
              "      <td>...</td>\n",
              "      <td>...</td>\n",
              "    </tr>\n",
              "    <tr>\n",
              "      <th>99436</th>\n",
              "      <td>17ddf5dd5d51696bb3d7c6291687be6f</td>\n",
              "      <td>1a29b476fee25c95fbafc67c5ac95cf8</td>\n",
              "      <td>3937</td>\n",
              "      <td>sao paulo</td>\n",
              "      <td>SP</td>\n",
              "    </tr>\n",
              "    <tr>\n",
              "      <th>99437</th>\n",
              "      <td>e7b71a9017aa05c9a7fd292d714858e8</td>\n",
              "      <td>d52a67c98be1cf6a5c84435bd38d095d</td>\n",
              "      <td>6764</td>\n",
              "      <td>taboao da serra</td>\n",
              "      <td>SP</td>\n",
              "    </tr>\n",
              "    <tr>\n",
              "      <th>99438</th>\n",
              "      <td>5e28dfe12db7fb50a4b2f691faecea5e</td>\n",
              "      <td>e9f50caf99f032f0bf3c55141f019d99</td>\n",
              "      <td>60115</td>\n",
              "      <td>fortaleza</td>\n",
              "      <td>CE</td>\n",
              "    </tr>\n",
              "    <tr>\n",
              "      <th>99439</th>\n",
              "      <td>56b18e2166679b8a959d72dd06da27f9</td>\n",
              "      <td>73c2643a0a458b49f58cea58833b192e</td>\n",
              "      <td>92120</td>\n",
              "      <td>canoas</td>\n",
              "      <td>RS</td>\n",
              "    </tr>\n",
              "    <tr>\n",
              "      <th>99440</th>\n",
              "      <td>274fa6071e5e17fe303b9748641082c8</td>\n",
              "      <td>84732c5050c01db9b23e19ba39899398</td>\n",
              "      <td>6703</td>\n",
              "      <td>cotia</td>\n",
              "      <td>SP</td>\n",
              "    </tr>\n",
              "  </tbody>\n",
              "</table>\n",
              "<p>99441 rows × 5 columns</p>\n",
              "</div>"
            ],
            "text/plain": [
              "                            customer_id  ... customer_state\n",
              "0      06b8999e2fba1a1fbc88172c00ba8bc7  ...             SP\n",
              "1      18955e83d337fd6b2def6b18a428ac77  ...             SP\n",
              "2      4e7b3e00288586ebd08712fdd0374a03  ...             SP\n",
              "3      b2b6027bc5c5109e529d4dc6358b12c3  ...             SP\n",
              "4      4f2d8ab171c80ec8364f7c12e35b23ad  ...             SP\n",
              "...                                 ...  ...            ...\n",
              "99436  17ddf5dd5d51696bb3d7c6291687be6f  ...             SP\n",
              "99437  e7b71a9017aa05c9a7fd292d714858e8  ...             SP\n",
              "99438  5e28dfe12db7fb50a4b2f691faecea5e  ...             CE\n",
              "99439  56b18e2166679b8a959d72dd06da27f9  ...             RS\n",
              "99440  274fa6071e5e17fe303b9748641082c8  ...             SP\n",
              "\n",
              "[99441 rows x 5 columns]"
            ]
          },
          "metadata": {
            "tags": []
          },
          "execution_count": 19
        }
      ]
    }
  ]
}